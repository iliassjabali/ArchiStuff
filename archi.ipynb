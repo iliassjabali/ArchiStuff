{
 "metadata": {
  "language_info": {
   "codemirror_mode": {
    "name": "ipython",
    "version": 3
   },
   "file_extension": ".py",
   "mimetype": "text/x-python",
   "name": "python",
   "nbconvert_exporter": "python",
   "pygments_lexer": "ipython3",
   "version": "3.8.5-final"
  },
  "orig_nbformat": 2,
  "kernelspec": {
   "name": "python3",
   "display_name": "Python 3",
   "language": "python"
  }
 },
 "nbformat": 4,
 "nbformat_minor": 2,
 "cells": [
  {
   "source": [
    "# CSC 2304: Computer Archi\n",
    "## Decimal to binary \n",
    "the same as the humain brain will do it is by recursion \n",
    "Let's first define the function \n",
    "\n",
    "![frac](https://media.geeksforgeeks.org/wp-content/uploads/decimal2binaryPython.png)"
   ],
   "cell_type": "markdown",
   "metadata": {}
  },
  {
   "source": [
    "def DecimalToBinary(num):\n",
    "    if num >= 1:\n",
    "        DecimalToBinary(num // 2)\n",
    "    print(num % 2, end = '')"
   ],
   "cell_type": "code",
   "metadata": {},
   "execution_count": 8,
   "outputs": []
  },
  {
   "cell_type": "code",
   "execution_count": 12,
   "metadata": {},
   "outputs": [
    {
     "output_type": "stream",
     "name": "stdout",
     "text": [
      "01101001"
     ]
    }
   ],
   "source": [
    "DecimalToBinary(int(input(\"The number:\\t\")))"
   ]
  },
  {
   "source": [
    "# Binary fraction"
   ],
   "cell_type": "markdown",
   "metadata": {}
  },
  {
   "cell_type": "code",
   "execution_count": 2,
   "metadata": {},
   "outputs": [],
   "source": [
    "def BinaryFraction(num, k_prec) :\n",
    "\tbinary = \"\"\n",
    "\tIntegral = int(num)\n",
    "\tfractional = num - Integral\n",
    "\twhile (Integral) :\n",
    "\t\trem = Integral % 2\n",
    "\t\tbinary += str(rem);\n",
    "\t\tIntegral //= 2\n",
    "\tbinary = binary[ : : -1]\n",
    "\tbinary += '.'\n",
    "\twhile (k_prec) :\n",
    "\t\tfractional *= 2\n",
    "\t\tfract_bit = int(fractional)\n",
    "\t\tif (fract_bit == 1) :\n",
    "\t\t\tfractional -= fract_bit\n",
    "\t\t\tbinary += '1'\n",
    "\t\telse :\n",
    "\t\t\tbinary += '0'\n",
    "\t\tk_prec -= 1\n",
    "\treturn binary"
   ]
  },
  {
   "cell_type": "code",
   "execution_count": 3,
   "metadata": {},
   "outputs": [
    {
     "output_type": "stream",
     "name": "stdout",
     "text": [
      ".00011011\n"
     ]
    }
   ],
   "source": [
    "print(BinaryFraction(float(input(\"The number:\\t\")), int(input(\"The precision:\\t\"))))\n"
   ]
  },
  {
   "source": [
    "## Binaary adition "
   ],
   "cell_type": "markdown",
   "metadata": {}
  },
  {
   "cell_type": "code",
   "execution_count": 4,
   "metadata": {},
   "outputs": [],
   "source": [
    "# Python program to add two binary numbers.\n",
    "def BinADD (a, b):\n",
    "    sum = bin(int(a, 2) + int(b, 2))\n",
    "    print(sum[2:])"
   ]
  },
  {
   "cell_type": "code",
   "execution_count": 7,
   "metadata": {},
   "outputs": [
    {
     "output_type": "error",
     "ename": "TypeError",
     "evalue": "'str' object is not callable",
     "traceback": [
      "\u001b[0;31m---------------------------------------------------------------------------\u001b[0m",
      "\u001b[0;31mTypeError\u001b[0m                                 Traceback (most recent call last)",
      "\u001b[0;32m<ipython-input-7-6a6e030a8516>\u001b[0m in \u001b[0;36m<module>\u001b[0;34m\u001b[0m\n\u001b[0;32m----> 1\u001b[0;31m \u001b[0mBinADD\u001b[0m\u001b[0;34m(\u001b[0m\u001b[0minput\u001b[0m\u001b[0;34m(\u001b[0m\u001b[0;34m\"A\"\u001b[0m\u001b[0;34m)\u001b[0m\u001b[0;34m,\u001b[0m\u001b[0minput\u001b[0m\u001b[0;34m(\u001b[0m\u001b[0;34m\"B\"\u001b[0m\u001b[0;34m)\u001b[0m\u001b[0;34m)\u001b[0m\u001b[0;34m\u001b[0m\u001b[0;34m\u001b[0m\u001b[0m\n\u001b[0m",
      "\u001b[0;32m<ipython-input-4-e6ecadc31baa>\u001b[0m in \u001b[0;36mBinADD\u001b[0;34m(a, b)\u001b[0m\n\u001b[1;32m      1\u001b[0m \u001b[0;31m# Python program to add two binary numbers.\u001b[0m\u001b[0;34m\u001b[0m\u001b[0;34m\u001b[0m\u001b[0;34m\u001b[0m\u001b[0m\n\u001b[1;32m      2\u001b[0m \u001b[0;32mdef\u001b[0m \u001b[0mBinADD\u001b[0m \u001b[0;34m(\u001b[0m\u001b[0ma\u001b[0m\u001b[0;34m,\u001b[0m \u001b[0mb\u001b[0m\u001b[0;34m)\u001b[0m\u001b[0;34m:\u001b[0m\u001b[0;34m\u001b[0m\u001b[0;34m\u001b[0m\u001b[0m\n\u001b[0;32m----> 3\u001b[0;31m     \u001b[0msum\u001b[0m \u001b[0;34m=\u001b[0m \u001b[0mbin\u001b[0m\u001b[0;34m(\u001b[0m\u001b[0mint\u001b[0m\u001b[0;34m(\u001b[0m\u001b[0ma\u001b[0m\u001b[0;34m,\u001b[0m \u001b[0;36m2\u001b[0m\u001b[0;34m)\u001b[0m \u001b[0;34m+\u001b[0m \u001b[0mint\u001b[0m\u001b[0;34m(\u001b[0m\u001b[0mb\u001b[0m\u001b[0;34m,\u001b[0m \u001b[0;36m2\u001b[0m\u001b[0;34m)\u001b[0m\u001b[0;34m)\u001b[0m\u001b[0;34m\u001b[0m\u001b[0;34m\u001b[0m\u001b[0m\n\u001b[0m\u001b[1;32m      4\u001b[0m     \u001b[0mprint\u001b[0m\u001b[0;34m(\u001b[0m\u001b[0msum\u001b[0m\u001b[0;34m[\u001b[0m\u001b[0;36m2\u001b[0m\u001b[0;34m:\u001b[0m\u001b[0;34m]\u001b[0m\u001b[0;34m)\u001b[0m\u001b[0;34m\u001b[0m\u001b[0;34m\u001b[0m\u001b[0m\n",
      "\u001b[0;31mTypeError\u001b[0m: 'str' object is not callable"
     ]
    }
   ],
   "source": [
    "BinADD(input(\"A\"),input(\"B\"))"
   ]
  },
  {
   "source": [
    "## Complement\n",
    "### 1's Complement\n",
    "1’s complement of a binary number is another binary number obtained by toggling all bits in it, i.e., transforming the 0 bit to 1 and the 1 bit to 0.\n",
    "$$\n",
    "\\begin{array}{lll} \n",
    "& + & - \\\\\n",
    "0 & 0000 & 1111 \\\\\n",
    "1 & 0001 & 1110 \\\\\n",
    "2 & 0010 & 1101 \\\\\n",
    "3 & 0011 & 1100 \\\\\n",
    "4 & 0100 & 1011 \\\\\n",
    "5 & 0101 & 1010 \\\\\n",
    "6 & 0110 & 1001 \\\\\n",
    "7 & 0111 & 1000\n",
    "\\end{array}\n",
    "$$\n",
    "\n",
    "Note that both +0 and −0 return TRUE when tested for zero and FALSE when tested for non-zero. \n",
    "### 2's Complement\n",
    "\n",
    "2’s complement of a binary number is 1 added to the 1’s complement of the binary number. \n",
    "Examples: \n"
   ],
   "cell_type": "markdown",
   "metadata": {}
  },
  {
   "cell_type": "code",
   "execution_count": 4,
   "metadata": {},
   "outputs": [
    {
     "output_type": "stream",
     "name": "stdout",
     "text": [
      "1's complement: 10010011\n2's complement: 10010100\n"
     ]
    }
   ],
   "source": [
    "def flip(c):\n",
    "\treturn '1' if (c == '0') else '0'\n",
    "def printOneAndTwosComplement(bin):\n",
    "\tn = len(bin)\n",
    "\tones = \"\"\n",
    "\ttwos = \"\"\n",
    "\tfor i in range(n):\n",
    "\t\tones += flip(bin[i])\n",
    "\tones = list(ones.strip(\"\"))\n",
    "\ttwos = list(ones)\n",
    "\tfor i in range(n - 1, -1, -1):\n",
    "\t\n",
    "\t\tif (ones[i] == '1'):\n",
    "\t\t\ttwos[i] = '0'\n",
    "\t\telse:\t\t\n",
    "\t\t\ttwos[i] = '1'\n",
    "\t\t\tbreak\n",
    "\ti -= 1\n",
    "\tif (i == -1):\n",
    "\t\ttwos.insert(0, '1')\n",
    "\tprint(\"1's complement: \", *ones, sep = \"\")\n",
    "\tprint(\"2's complement: \", *twos, sep = \"\")\n",
    "\t\n",
    "# Driver Code\n",
    "if __name__ == '__main__':\n",
    "\tbin = input()\n",
    "\tprintOneAndTwosComplement(bin.strip(\"\"))\n"
   ]
  },
  {
   "source": [
    " ## IEEE Standard for Floating-Point Arithmetic \n",
    " \n",
    " ![IEEE](https://upload.wikimedia.org/wikipedia/commons/thumb/d/d2/Float_example.svg/1180px-Float_example.svg.png)"
   ],
   "cell_type": "markdown",
   "metadata": {}
  },
  {
   "source": [
    "## Logic gates\n",
    "\n",
    " ![Gates](https://www.circuitbasics.com/wp-content/uploads/2020/05/image-88.png)"
   ],
   "cell_type": "markdown",
   "metadata": {}
  }
 ]
}